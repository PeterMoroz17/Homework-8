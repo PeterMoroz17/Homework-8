{
 "cells": [
  {
   "cell_type": "code",
   "execution_count": 24,
   "id": "24025c1e",
   "metadata": {},
   "outputs": [],
   "source": [
    "import json\n",
    "from selenium import webdriver\n",
    "from selenium.webdriver.support.ui import WebDriverWait\n",
    "from selenium.webdriver.support import expected_conditions as EC\n",
    "from selenium.webdriver.common.by import By"
   ]
  },
  {
   "cell_type": "code",
   "execution_count": 25,
   "id": "96519c7a",
   "metadata": {
    "scrolled": true
   },
   "outputs": [
    {
     "name": "stdout",
     "output_type": "stream",
     "text": [
      "https://jobs.marksandspencer.com/job-search/in-store/swindon-wiltshire/customer-assistant-clothing-home-swindon-outlet-new/300003895320715\n",
      "Customer Assistant - Clothing & Home - Swindon Outlet New Job\n",
      "\n",
      "https://jobs.marksandspencer.com/job-search/in-store/swindon-wiltshire/customer-assistant-clothing-home-swindon-outlet-new/300003895320640\n",
      "Customer Assistant - Clothing & Home - Swindon Outlet New Job\n",
      "\n",
      "https://jobs.marksandspencer.com/job-search/in-store/hayle-cornwall/customer-assistant-foods-west-cornwall/300003896262065\n",
      "Customer Assistant - Foods - West Cornwall Job\n",
      "\n",
      "https://jobs.marksandspencer.com/job-search/in-store/hayle-cornwall/customer-assistant-foods-west-cornwall/300003896261990\n",
      "Customer Assistant - Foods - West Cornwall Job\n",
      "\n",
      "https://jobs.marksandspencer.com/job-search/in-store/nottingham-nottinghamshire/customer-assistant-netherfield-in-store-bakery/300003895706449\n",
      "Customer Assistant - Netherfield - In Store Bakery Job\n",
      "\n",
      "https://jobs.marksandspencer.com/job-search/in-store/newport-newport/customer-assistant-foods-newport-rp/300003894963633\n",
      "Customer Assistant - Foods - Newport RP Job\n",
      "\n",
      "https://jobs.marksandspencer.com/job-search/in-store/newport-newport/customer-assistant-foods-newport-rp/300003894963564\n",
      "Customer Assistant - Foods - Newport RP Job\n",
      "\n",
      "https://jobs.marksandspencer.com/job-search/in-store/douglas-douglas/customer-assistant-warehouse-operative-douglas/300003895124743\n",
      "Customer Assistant - Warehouse Operative - Douglas Job\n",
      "\n",
      "https://jobs.marksandspencer.com/job-search/in-store/bristol-bristol/customer-assistant-bank-services-cribbs-causeway/300003894790112\n",
      "Customer Assistant - Bank & Services - Cribbs Causeway Job\n",
      "\n",
      "https://jobs.marksandspencer.com/job-search/in-store/bath-somerset/customer-assistant-clothing-home-bath/300003891521724\n",
      "Customer Assistant - Clothing & Home - Bath Job\n",
      "\n",
      "https://jobs.marksandspencer.com/job-search/in-store/bath-somerset/customer-assistant-clothing-home-bath/300003891521659\n",
      "Customer Assistant - Clothing & Home - Bath Job\n",
      "\n",
      "https://jobs.marksandspencer.com/job-search/in-store/bath-somerset/customer-assistant-clothing-home-bath/300003891521591\n",
      "Customer Assistant - Clothing & Home - Bath Job\n",
      "\n",
      "https://jobs.marksandspencer.com/job-search/in-store/bath-somerset/customer-assistant-backstage-bath/300003894707918\n",
      "Customer Assistant - Backstage - Bath Job\n",
      "\n",
      "https://jobs.marksandspencer.com/job-search/in-store/bath-somerset/customer-assistant-clothing-home-bath/300003891521521\n",
      "Customer Assistant - Clothing & Home - Bath Job\n",
      "\n",
      "https://jobs.marksandspencer.com/job-search/in-store/bath-somerset/customer-assistant-clothing-home-bath/300003891521456\n",
      "Customer Assistant - Clothing & Home - Bath Job\n",
      "\n",
      "https://jobs.marksandspencer.com/job-search/in-store/cardiff-the-vale-of-glamorgan/customer-assistant-cafe-culverhouse-cross/300003891344673\n",
      "Customer Assistant - Cafe - Culverhouse Cross Job\n",
      "\n",
      "https://jobs.marksandspencer.com/job-search/in-store/cheshunt-hertfordshire/customer-assistant-foods-through-the-night-cheshunt/300003891469591\n",
      "Customer Assistant - Foods - Through The Night - Cheshunt Job\n",
      "\n",
      "https://jobs.marksandspencer.com/job-search/in-store/bath-somerset/customer-assistant-cafe-bath/300003891499963\n",
      "Customer Assistant - Cafe - Bath Job\n",
      "\n",
      "https://jobs.marksandspencer.com/job-search/in-store/glasgow-south-lanarkshire/customer-assistant-in-store-bakery-kingsgate/300003891417029\n",
      "Customer Assistant - In-Store Bakery - Kingsgate Job\n",
      "\n",
      "https://jobs.marksandspencer.com/job-search/in-store/aintree-merseyside/customer-assistant-foods-aintree/300003891261200\n",
      "Customer Assistant- Foods- Aintree Job\n",
      "\n"
     ]
    }
   ],
   "source": [
    "titles = []\n",
    "links = []\n",
    "\n",
    "driver = webdriver.Chrome(r\"C:\\Users\\user\\chromedriver-win64\\chromedriver.exe\")\n",
    "max_page = 2\n",
    "\n",
    "for i in range(1, max_page + 1):\n",
    "    driver.get(\"https://jobs.marksandspencer.com/job-search?country%5B0%5D=United%20Kingdom&page=\" + str(i) + \"&radius=\")\n",
    "    wait = WebDriverWait(driver, 10)\n",
    "    wait.until(EC.presence_of_element_located((By.XPATH, '//a[@data-track-text=\"View job\"]')))\n",
    "    \n",
    "    data = driver.find_elements(By.XPATH, '//a[@data-track-text=\"View job\"]')\n",
    "    for element in data :\n",
    "        titles.append(element.get_attribute('href'))\n",
    "        links.append(element.get_attribute('aria-label')[5:])\n",
    "        \n",
    "        print(element.get_attribute('href'))\n",
    "        print(element.get_attribute('aria-label')[5:])\n",
    "        print()"
   ]
  },
  {
   "cell_type": "code",
   "execution_count": 26,
   "id": "1fbe6e24",
   "metadata": {},
   "outputs": [],
   "source": [
    "filename = \"JSON.json\"\n",
    "data = [\n",
    "    {\"title\": titles[i], \"url\" : links[i]}\n",
    "    for i in range(0, len(links))\n",
    "]\n",
    "with open(filename, \"w\", encoding='utf-8') as f:\n",
    "    json.dump(data, f, indent=2)"
   ]
  },
  {
   "cell_type": "code",
   "execution_count": null,
   "id": "23e3e145",
   "metadata": {},
   "outputs": [],
   "source": []
  }
 ],
 "metadata": {
  "kernelspec": {
   "display_name": "Python 3 (ipykernel)",
   "language": "python",
   "name": "python3"
  },
  "language_info": {
   "codemirror_mode": {
    "name": "ipython",
    "version": 3
   },
   "file_extension": ".py",
   "mimetype": "text/x-python",
   "name": "python",
   "nbconvert_exporter": "python",
   "pygments_lexer": "ipython3",
   "version": "3.9.16"
  }
 },
 "nbformat": 4,
 "nbformat_minor": 5
}
